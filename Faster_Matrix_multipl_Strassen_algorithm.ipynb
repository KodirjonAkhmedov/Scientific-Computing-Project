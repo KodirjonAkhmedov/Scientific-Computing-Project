{
 "cells": [
  {
   "cell_type": "markdown",
   "metadata": {},
   "source": [
    "$$\\Huge \\textbf{Background}$$\n",
    "\n",
    "There are algorithms for calculation multipication of matrices $A$  and $B$ with order $n \\times n$:\n",
    "$$\n",
    "\\begin{array}{ll}\n",
    "\\textbf{Proposed by} & \\textbf{Complexity}\\\\\n",
    "Standart\\, algorithm & O(n^3)\\\\\n",
    "Strassen\\, (1969) & O(n^{2.81})\\\\\n",
    "Pan \\,(1978) & O(n^{2.79})\\\\\n",
    "Bini\\, et al. \\,(1979) & O(n^{2.78})\\\\\n",
    "Schönhage\\,(1981) & O(n^{2.55})\\\\\n",
    "Pan; \\,Romani;\\, Coppersmith;\\,Winograd\\, (1981-1982) & O(n^{2.50})\\\\\n",
    "Strassen \\,(1987) & O(n^{2.48})\\\\\n",
    "Coppersmith;\\,Winograd\\, (1987) & O(n^{2.375})\\\\\n",
    "Stothers\\, (2010) & O(n^{2.3737})\\\\\n",
    "Williams\\, (2011) & O(n^{2.3729})\\\\\n",
    "Le\\,Gall\\, (2014) & O(n^{2.37286})\\\\\n",
    "\\end{array}\n",
    "$$\n",
    "\n",
    "The first Strassen's algorithm, which proposed in 1969, is useful in practice, but the others require deep mathematical structure and impractical.\n",
    "\n",
    "So, below we'll see Strassen's algorithm."
   ]
  },
  {
   "cell_type": "markdown",
   "metadata": {},
   "source": [
    "$$\\Huge \\textbf{Steps of Strassen's algorithm}$$\n",
    "\n",
    "Let the matrices $A$, $B$ and the result matrix $C$ are $(n \\times n)$ matrices, where $n=2^k$.\n",
    "\n",
    "$\\textbf{Step 1}$\n",
    "\n",
    "Partition $A$, $B$ and $C$ matrices into four $(\\frac{n}{2}\\times\\frac{n}{2}$) submatrices, so that\n",
    "\n",
    "$$\\left( \n",
    "\\begin{array}{ll} \n",
    "C_{11}& C_{12} \\\\\n",
    "C_{21}& C_{22}\n",
    "\\end{array} \n",
    "\\right) = \\left( \n",
    "\\begin{array}{ll} \n",
    "A_{11}& A_{12} \\\\\n",
    "A_{21}& A_{22}\n",
    "\\end{array} \n",
    "\\right) \\cdot \\left( \n",
    "\\begin{array}{ll} \n",
    "B_{11}& B_{12} \\\\\n",
    "B_{21}& B_{22}\n",
    "\\end{array} \n",
    "\\right).$$\n",
    "\n",
    "It is easy to see that $$C_{11}=A_{11}\\cdot B_{11}+A_{12}\\cdot B_{21},\\,C_{12}=A_{11}\\cdot B_{12}+A_{12}\\cdot B_{22},\\,\n",
    "C_{21}=A_{21}\\cdot B_{11}+A_{22}\\cdot B_{21},\\, C_{22}=A_{21}\\cdot B_{12}+A_{22}\\cdot B_{22} \\qquad\\qquad\\qquad (*)$$.\n",
    "\n",
    "$\\textbf{Step 2}$\n",
    "\n",
    "Calculate recursively 7 calculated matrix multiplications:\n",
    "\n",
    "$$\n",
    "\\begin{array}{l}\n",
    "P_1=(A_{11}+A_{22})(B_{21}+B_{12})\\\\\n",
    "P_2=(A_{21}+A_{22})B_{11}\\\\\n",
    "P_3=A_{11}(B_{12}+B_{22})\\\\\n",
    "P_4=A_{22}(B_{21}+B_{1})\\qquad\\qquad\\qquad\\qquad\\qquad\\qquad\\qquad (**)\\\\\n",
    "P_5=(A_{11}-A_{12})B_{22}\\\\\n",
    "P_6=(A_{21}-A_{22})(B_{11}+B_{12})\\\\\n",
    "P_7=(A_{12}-A_{22})(B_{21}+B_{22}) \n",
    "\\end{array}$$\n",
    "\n",
    "$\\textbf{Step 3}$\n",
    "\n",
    "Form matrix $C$ using operations $+, \\, -$ and 7 matrices $P_1, P_2,\\ldots,P_7$. Namely,\n",
    "$$\n",
    "\\begin{array}{l}\n",
    "C_{11}=P_1+P_4-P_5+P_7\\\\\n",
    "C_{12}=P_3+P_5\\\\\n",
    "C_{21}=P_2+P_5\\\\\n",
    "C_{22}=P_1-P_2+P_3+P_6\n",
    "\\end{array}$$\n",
    "\n",
    "So, Strassen reduced 8 matrix multiplications in $(*)$ to 7 matrix multiplications in $(**)$."
   ]
  },
  {
   "cell_type": "markdown",
   "metadata": {},
   "source": [
    "# Standart algorithm: Matrices multiplication"
   ]
  },
  {
   "cell_type": "code",
   "execution_count": 2,
   "metadata": {
    "collapsed": true
   },
   "outputs": [],
   "source": [
    "def Initialize(n):\n",
    "    M =[[0 for j in range(0, n)] for i in range(0, n)]\n",
    "    return M\n",
    "\n",
    "def StandartMult(A, B):\n",
    "    n = len(A)\n",
    "    C = Initialize(n)\n",
    "    for i in range(n):\n",
    "            for j in range(n):\n",
    "                for k in range(n):\n",
    "                    C[i][j] += A[i][k] * B[k][j]\n",
    "    return C"
   ]
  },
  {
   "cell_type": "markdown",
   "metadata": {},
   "source": [
    "# Matrices Adding Function "
   ]
  },
  {
   "cell_type": "code",
   "execution_count": 3,
   "metadata": {
    "collapsed": true
   },
   "outputs": [],
   "source": [
    "def addMatrices(A, B):\n",
    "    n = len(A)\n",
    "    C = Initialize(n)\n",
    "    for i in range(0, n):\n",
    "        for j in range(0, n):\n",
    "            C[i][j] = A[i][j] + B[i][j]\n",
    "    return C"
   ]
  },
  {
   "cell_type": "markdown",
   "metadata": {},
   "source": [
    "# Matrices Subtracting Function"
   ]
  },
  {
   "cell_type": "code",
   "execution_count": 4,
   "metadata": {
    "collapsed": true
   },
   "outputs": [],
   "source": [
    "def subtractMatrices(A, B):\n",
    "    n = len(A)\n",
    "    C = Initialize(n)\n",
    "    for i in range(0, n):\n",
    "        for j in range(0, n):\n",
    "            C[i][j] = A[i][j] - B[i][j]\n",
    "    return C"
   ]
  },
  {
   "cell_type": "markdown",
   "metadata": {},
   "source": [
    "# Strassen's Recursive Function"
   ]
  },
  {
   "cell_type": "code",
   "execution_count": 5,
   "metadata": {
    "collapsed": true
   },
   "outputs": [],
   "source": [
    "def StrassenR(A, B):\n",
    " \n",
    "    n = len(A)\n",
    "\n",
    "    if n <= 2**6:# lower bound of n that Strassen' algorithm run time doesn't differ from Standart algorithm run time\n",
    "        return StandartMult(A, B)\n",
    "    else:\n",
    "        # initializing the new sub-matrices\n",
    "        half_n = n//2\n",
    "        a11 = Initialize(half_n)\n",
    "        a12 = Initialize(half_n)\n",
    "        a21 = Initialize(half_n)\n",
    "        a22 = Initialize(half_n)\n",
    "\n",
    "        b11 = Initialize(half_n)\n",
    "        b12 = Initialize(half_n)\n",
    "        b21 = Initialize(half_n)\n",
    "        b22 = Initialize(half_n)\n",
    "\n",
    "        aResult = Initialize(half_n)\n",
    "        bResult = Initialize(half_n)\n",
    "\n",
    "        # dividing the matrices in 4 sub-matrices:\n",
    "        for i in range(0, half_n):\n",
    "            for j in range(0, half_n):\n",
    "                a11[i][j] = A[i][j]                    # top left\n",
    "                a12[i][j] = A[i][j + half_n]           # top right\n",
    "                a21[i][j] = A[i + half_n][j]           # bottom left\n",
    "                a22[i][j] = A[i + half_n][j + half_n]  # bottom right\n",
    "\n",
    "                b11[i][j] = B[i][j]                    # top left\n",
    "                b12[i][j] = B[i][j + half_n]           # top right\n",
    "                b21[i][j] = B[i + half_n][j]           # bottom left\n",
    "                b22[i][j] = B[i + half_n][j + half_n]  # bottom right\n",
    "\n",
    "        # Calculating p1 to p7:\n",
    "        aResult = addMatrices(a11, a22)\n",
    "        bResult = addMatrices(b11, b22)\n",
    "        p1 = StrassenR(aResult, bResult)\n",
    "\n",
    "        aResult = addMatrices(a21, a22)     \n",
    "        p2 = StrassenR(aResult, b11)\n",
    "        \n",
    "        bResult = subtractMatrices(b12, b22) \n",
    "        p3 = StrassenR(a11, bResult)  \n",
    "\n",
    "        bResult = subtractMatrices(b21, b11) \n",
    "        p4 =StrassenR(a22, bResult)  \n",
    "\n",
    "        aResult = addMatrices(a11, a12)      \n",
    "        p5 = StrassenR(aResult, b22) \n",
    "\n",
    "        aResult = subtractMatrices(a21, a11) \n",
    "        bResult = addMatrices(b11, b12)      \n",
    "        p6 = StrassenR(aResult, bResult) \n",
    "\n",
    "        aResult = subtractMatrices(a12, a22) \n",
    "        bResult = addMatrices(b21, b22)      \n",
    "        p7 = StrassenR(aResult, bResult) \n",
    "\n",
    "        # calculating c21, c21, c11 e c22:\n",
    "        aResult = addMatrices(p1, p4) \n",
    "        bResult = addMatrices(aResult, p7) \n",
    "        c11 = subtractMatrices(bResult, p5)\n",
    "        \n",
    "        c12 = addMatrices(p3, p5)\n",
    "        \n",
    "        c21 = addMatrices(p2, p4)\n",
    "\n",
    "        aResult = addMatrices(p1, p3) \n",
    "        bResult = addMatrices(aResult, p6) \n",
    "        c22 = subtractMatrices(bResult, p2) \n",
    "\n",
    "        # Grouping the results\n",
    "        C = Initialize(n)\n",
    "        for i in range(0, half_n):\n",
    "            for j in range(0, half_n):\n",
    "                C[i][j] = c11[i][j]\n",
    "                C[i][j + half_n] = c12[i][j]\n",
    "                C[i + half_n][j] = c21[i][j]\n",
    "                C[i + half_n][j + half_n] = c22[i][j]\n",
    "        return C\n",
    "\n",
    "def Strassen(A, B):\n",
    "    n = len(A)\n",
    "    APrep = Initialize(n)\n",
    "    BPrep = Initialize(n)\n",
    "    for i in range(n):\n",
    "        for j in range(n):\n",
    "            APrep[i][j] = A[i][j]\n",
    "            BPrep[i][j] = B[i][j]\n",
    "    CPrep = StrassenR(APrep, BPrep)\n",
    "    C = Initialize(n)\n",
    "    for i in range(n):\n",
    "        for j in range(n):\n",
    "            C[i][j] = CPrep[i][j]\n",
    "    return C"
   ]
  },
  {
   "cell_type": "markdown",
   "metadata": {},
   "source": [
    "# Printing Matrix as Matrix Form"
   ]
  },
  {
   "cell_type": "code",
   "execution_count": 6,
   "metadata": {
    "collapsed": true
   },
   "outputs": [],
   "source": [
    "def MatrixForm(M):\n",
    "    for row in M:\n",
    "        print(\"\\t\".join(map(str, row)))"
   ]
  },
  {
   "cell_type": "markdown",
   "metadata": {},
   "source": [
    "$$\\Huge \\textbf{Complexity analysis}$$\n",
    "\n",
    "Let $T(n)$ be the running time of Strassen's algorithm. \n",
    "\n",
    "According to this algorithm, one can write recursive relation:\n",
    "\n",
    "$$T\\left(n\\right)=7\\cdot T\\left(\\frac{n}{2}\\right)+O(n^2)$$\n",
    "\n",
    "Let us calulate $T(n)$.\n",
    "\n",
    "$$\\begin{array}{l}\n",
    "T\\left(n\\right)=7\\cdot \\left(7\\cdot T\\left(\\frac{n}{4}\\right)+O(\\frac{n^2}{4})\\right)+O(n^2)=7^2\\cdot T\\left(\\frac{n}{4}\\right)+ 7 \\cdot O(\\frac{n^2}{4})+O(n^2)\\\\\n",
    "T\\left(n\\right)=7^3\\cdot T\\left(\\frac{n}{8}\\right)+ 7^2 \\cdot O(\\frac{n^2}{16})+ 7 \\cdot O(\\frac{n^2}{4})+O(n^2)\\\\\n",
    "\\ldots\\\\\n",
    "T\\left(n\\right)=7^k\\cdot T\\left(\\frac{n}{2^{k}}\\right)+ 7^{k-1}O(\\frac{n^2}{2^{2k-2}})+7^{k-2}O(\\frac{n^2}{2^{2k-4}})+\\ldots+O(n^2)\n",
    "\\end{array}$$\n",
    "Therefore,\n",
    "\n",
    "$$T(n)=7^{k}T(1) + O(n^2) \\frac{\\left(\\frac{7}{4}\\right)^k-1}{\\frac{7}{4}-1}=7^{k}O(1)+ \\frac{4}{3} (7^k-2^{2k})O(1)\\left\\{Since\\,n=2^k,\\, so\\,k=\\log_2{n}\\right\\}=$$ \n",
    "\n",
    "$$=\\frac{7}{3} 7^{log_2(n)} O(1)-\\frac{4}{3}n^2O(1) = n^{log_2(7)}O(1) \\textrm{   (in an asymptotic sense)}$$\n",
    "\n",
    "\n",
    "$\\textbf{Finally, we get the complexity}$  $$T(n)=O(n^{2.807})$$\n",
    "\n",
    "As we know, the Standart algorithm of multiplication of matrices $A$ and $B$ has complexity equals $O(n^3)$.\n",
    "\n",
    "So, Strassen's algorithm is faster than the Satandart algorithm in an asymptotic sense, when $n \\geq 64$."
   ]
  },
  {
   "cell_type": "markdown",
   "metadata": {},
   "source": [
    "# Generating A and B matrices randomly"
   ]
  },
  {
   "cell_type": "code",
   "execution_count": 7,
   "metadata": {
    "collapsed": true
   },
   "outputs": [],
   "source": [
    "import random as rnd\n",
    "def GenerateMatrix(n):\n",
    "    A = Initialize(n)\n",
    "    B = Initialize(n)\n",
    "    for i in range(n):\n",
    "        for j in range(n):\n",
    "            A[i][j]=rnd.randint(1,20)\n",
    "            B[i][j]=rnd.randint(1,20)\n",
    "    return A,B"
   ]
  },
  {
   "cell_type": "markdown",
   "metadata": {},
   "source": [
    "# An Example"
   ]
  },
  {
   "cell_type": "code",
   "execution_count": 8,
   "metadata": {},
   "outputs": [
    {
     "name": "stdout",
     "output_type": "stream",
     "text": [
      "Matrix A=\n",
      "8\t11\t4\t20\t14\t13\t19\t1\n",
      "3\t8\t20\t14\t12\t7\t5\t19\n",
      "12\t17\t2\t19\t13\t9\t15\t2\n",
      "15\t6\t9\t14\t9\t18\t3\t5\n",
      "19\t5\t18\t20\t11\t11\t10\t7\n",
      "3\t16\t14\t16\t4\t2\t9\t10\n",
      "12\t14\t14\t3\t6\t1\t8\t4\n",
      "17\t20\t1\t16\t14\t5\t17\t18\n",
      "\n",
      "Matrix B=\n",
      "17\t2\t7\t16\t3\t12\t7\t12\n",
      "12\t9\t2\t1\t4\t11\t16\t6\n",
      "7\t18\t13\t3\t16\t7\t18\t10\n",
      "4\t16\t8\t8\t15\t18\t9\t17\n",
      "10\t9\t7\t20\t1\t3\t10\t19\n",
      "18\t15\t4\t3\t1\t10\t17\t4\n",
      "11\t5\t2\t15\t16\t5\t17\t7\n",
      "12\t10\t6\t8\t15\t6\t13\t12\n"
     ]
    }
   ],
   "source": [
    "A,B=GenerateMatrix(8) # A, B are 8x8 matrices\n",
    "print(\"Matrix A=\")\n",
    "MatrixForm(A)\n",
    "print(\"\\nMatrix B=\")\n",
    "MatrixForm(B)"
   ]
  },
  {
   "cell_type": "code",
   "execution_count": 9,
   "metadata": {},
   "outputs": [
    {
     "name": "stdout",
     "output_type": "stream",
     "text": [
      "Stranssen algorithm: A*B =\n",
      "971\t933\t484\t923\t778\t878\t1181\t1005\n",
      "872\t1090\t645\t716\t955\t761\t1206\t1041\n",
      "979\t864\t465\t895\t713\t903\t1127\t1001\n",
      "953\t886\t517\t704\t573\t813\t1001\t868\n",
      "1091\t1111\t720\t982\t952\t1004\t1275\t1185\n",
      "700\t869\t477\t535\t837\t735\t1030\t811\n",
      "696\t599\t404\t547\t556\t542\t852\t641\n",
      "1233\t954\t560\t1117\t948\t1004\t1349\t1227\n"
     ]
    }
   ],
   "source": [
    "print(\"Stranssen algorithm: A*B =\")\n",
    "MatrixForm(Strassen(A,B))"
   ]
  },
  {
   "cell_type": "code",
   "execution_count": 10,
   "metadata": {},
   "outputs": [
    {
     "name": "stdout",
     "output_type": "stream",
     "text": [
      "Standart algorithm: A*B =\n",
      "971\t933\t484\t923\t778\t878\t1181\t1005\n",
      "872\t1090\t645\t716\t955\t761\t1206\t1041\n",
      "979\t864\t465\t895\t713\t903\t1127\t1001\n",
      "953\t886\t517\t704\t573\t813\t1001\t868\n",
      "1091\t1111\t720\t982\t952\t1004\t1275\t1185\n",
      "700\t869\t477\t535\t837\t735\t1030\t811\n",
      "696\t599\t404\t547\t556\t542\t852\t641\n",
      "1233\t954\t560\t1117\t948\t1004\t1349\t1227\n"
     ]
    }
   ],
   "source": [
    "print(\"Standart algorithm: A*B =\")\n",
    "MatrixForm(StandartMult(A,B))"
   ]
  },
  {
   "cell_type": "markdown",
   "metadata": {},
   "source": [
    "$$\\huge \\textbf{Comparison of Strassen's and Standart algorithms}$$\n",
    "$$\\large \\textbf{(in the cases $n=256,\\, n=384$ and $n=512$)}$$"
   ]
  },
  {
   "cell_type": "code",
   "execution_count": 11,
   "metadata": {
    "collapsed": true
   },
   "outputs": [],
   "source": [
    "# Running Time of Strassen's and Standart algorithm \n",
    "# It may take about 2 minuts to finish all calculations.\n",
    "import time\n",
    "CasesN=[256, 384, 512]\n",
    "timeRStrassen=[]\n",
    "timeRStandart=[]\n",
    "for n in CasesN:\n",
    "    A,B= GenerateMatrix(n)\n",
    "    start_time = time.time()\n",
    "    Strassen(A,B)\n",
    "    end_time = time.time()\n",
    "    timeRStrassen.append(end_time - start_time)\n",
    "    start_time = time.time()\n",
    "    StandartMult(A,B)\n",
    "    end_time = time.time()\n",
    "    timeRStandart.append(end_time - start_time)"
   ]
  },
  {
   "cell_type": "code",
   "execution_count": 12,
   "metadata": {},
   "outputs": [
    {
     "name": "stdout",
     "output_type": "stream",
     "text": [
      "Strassen algorithm:\n",
      "The running time in the case n= 256 is 5.911574602127075\n",
      "The running time in the case n= 384 is 20.434380292892456\n",
      "The running time in the case n= 512 is 49.10887360572815\n"
     ]
    }
   ],
   "source": [
    "print('Strassen algorithm:')\n",
    "for i in range(len(CasesN)):\n",
    "    print(\"The running time in the case n=\", CasesN[i], \"is\", timeRStrassen[i])"
   ]
  },
  {
   "cell_type": "code",
   "execution_count": 14,
   "metadata": {},
   "outputs": [
    {
     "name": "stdout",
     "output_type": "stream",
     "text": [
      "Standart algorithm:\n",
      "The running time in the case n= 256 is 6.85553765296936\n",
      "The running time in the case n= 384 is 24.25243067741394\n",
      "The running time in the case n= 512 is 59.43310284614563\n"
     ]
    }
   ],
   "source": [
    "print('Standart algorithm:')\n",
    "for i in range(len(CasesN)):\n",
    "    print(\"The running time in the case n=\", CasesN[i], \"is\", timeRStandart[i])\n",
    "    "
   ]
  },
  {
   "cell_type": "code",
   "execution_count": 15,
   "metadata": {},
   "outputs": [
    {
     "data": {
      "image/png": "[encoded data removed]",
      "text/plain": [
       "<matplotlib.figure.Figure at 0x925df0>"
      ]
     },
     "metadata": {},
     "output_type": "display_data"
    }
   ],
   "source": [
    "import matplotlib.pyplot as plt\n",
    "import numpy as np\n",
    "\n",
    "\n",
    "labels = []\n",
    "for i in range(len(CasesN)):\n",
    "    labels.append('n='+str(CasesN[i]))\n",
    "\n",
    "x = np.arange(len(labels))\n",
    "width = 0.25 \n",
    "\n",
    "fig, ax = plt.subplots()\n",
    "rects1 = ax.bar(x - width/2, timeRStrassen, width, label='Strassen algorithm')\n",
    "rects2 = ax.bar(x + width/2, timeRStandart, width, label='Standart algorithm')\n",
    "\n",
    "ax.set_ylabel('The running time in seconds')\n",
    "ax.set_title('The Run Time of Algorithms')\n",
    "ax.set_xticks(x)\n",
    "ax.set_xticklabels(labels)\n",
    "ax.legend()\n",
    "fig.tight_layout()\n",
    "\n",
    "plt.show()"
   ]
  },
  {
   "cell_type": "code",
   "execution_count": null,
   "metadata": {
    "collapsed": true
   },
   "outputs": [],
   "source": []
  }
 ],
 "metadata": {
  "kernelspec": {
   "display_name": "Python 3",
   "language": "python",
   "name": "python3"
  },
  "language_info": {
   "codemirror_mode": {
    "name": "ipython",
    "version": 3
   },
   "file_extension": ".py",
   "mimetype": "text/x-python",
   "name": "python",
   "nbconvert_exporter": "python",
   "pygments_lexer": "ipython3",
   "version": "3.7.3"
  }
 },
 "nbformat": 4,
 "nbformat_minor": 2
}
