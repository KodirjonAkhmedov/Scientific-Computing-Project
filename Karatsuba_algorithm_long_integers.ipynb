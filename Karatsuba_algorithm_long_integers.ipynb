{
 "cells": [
  {
   "cell_type": "markdown",
   "metadata": {},
   "source": [
    "$$\\Huge \\textbf{Background}$$\n",
    "\n",
    "There are algorithms for calculation multipication of $n$-digits numbers $x$ and $y$:\n",
    "$$\n",
    "\\begin{array}{ll}\n",
    "\\textbf{Proposed by} & \\textbf{Complexity}\\\\\n",
    "Standart\\, algorithm & O(n^2)\\\\\n",
    "Karatsuba\\, (1960) & O(n^{\\log_2{3}})\\\\\n",
    "Toom \\,(1963) & O(n^{\\log_3{5}})\\\\\n",
    "Tomm-Cook \\,(1966) & O(n^{\\log_k(2k+1)})\\\\\n",
    "Schönhage-Strassen\\,(1971) & O(n \\log(n) \\log \\log(n))\\\\\n",
    "Fürer\\, (2007) & O(n\\log(n)16^{\\log^*(n)})\\\\\n",
    "Harvey-Hoeven \\,(2019) & O(n\\log(n))\\\\\n",
    "\\end{array}\n",
    "$$\n",
    "\n",
    "In Python for long integers the faster algorithms are used (https://hg.python.org/cpython/file/b514339e41ef/Objects/longobject.c#l2694).\n",
    "\n",
    "Here we'll consider Karasuba's algorithm."
   ]
  },
  {
   "cell_type": "markdown",
   "metadata": {},
   "source": [
    "$$\\huge \\textbf{Karasuba's algorithm}$$\n",
    "\n",
    "Let $x$ and $y$ are $n$-digit numbers, where $n=2^k$. \n",
    "$$\n",
    "\\begin{array}{l}\n",
    "x=10^{\\frac{n}{2}}a+b\\\\\n",
    "y=10^{\\frac{n}{2}}c+d\n",
    "\\end{array}\n",
    "$$\n",
    "where $a,\\,b,\\,c$ and $d$ are at most $\\frac{n}{2}$-digit numbers.\n",
    "\n",
    "By the above representation one can express $x\\cdot y$ as\n",
    "\n",
    "$$x \\cdot y = \\left( 10^{\\frac{n}{2}}a+b\\right) \\cdot \\left( 10^{\\frac{n}{2}}c+d\\right)=10^nac+10^{\\frac{n}{2}}(ad+bc)+bd \\qquad\\qquad\\qquad\\qquad (*)$$\n",
    "\n",
    "Karasuba offered rewrite $(*)$ as\n",
    "$$x\\cdot y=T_2 10^n + (T_1-T_0-T_2)10^{\\frac{n}{2}}+T_0 \\qquad\\qquad\\qquad\\qquad\\qquad\\qquad\\qquad\\qquad\\;\\;\\;(**)$$\n",
    "\n",
    "which instead of 4 multiplications ($ac,\\, ad,\\, bc,\\,bd$) in $(*)$ the multiplication $x \\cdot y$ can be computed with 3 multiplications using new variables $T_0=bd,\\, T_1=(a+b)(c+d),\\, T_2 =ac$."
   ]
  },
  {
   "cell_type": "markdown",
   "metadata": {},
   "source": [
    "# Realization Karasuba's algorithm in Python"
   ]
  },
  {
   "cell_type": "code",
   "execution_count": 2,
   "metadata": {},
   "outputs": [],
   "source": [
    "def Karatsuba(x,y):\n",
    "    \n",
    "    if x <=10 and y <= 10:\n",
    "        return x*y\n",
    "\n",
    "    n = max(len(str(x)), len(str(y)))\n",
    "    m = n//2\n",
    "\n",
    "    p=10**m\n",
    "    a  =x // p\n",
    "    b = x % p\n",
    "    \n",
    "    c  = y // p\n",
    "    d = y % p\n",
    "\n",
    "    T0 = Karatsuba(b,d)\n",
    "    T1 = Karatsuba(a + b, c + d) \n",
    "    T2 = Karatsuba(a,c)\n",
    "\n",
    "    return T2*(10**(2*m)) + (T1-T0-T2)*(10**m) + T0"
   ]
  },
  {
   "cell_type": "markdown",
   "metadata": {},
   "source": [
    "$$\\huge \\textbf{Complexity of Karasuba's algorithm}$$\n",
    "\n",
    "Let $T(n)$ be the running time of Karasuba's algorithm. \n",
    "\n",
    "Due to this algorithm, one can write recursive relation:\n",
    "\n",
    "$$T(n)=3\\cdot T\\left( \\frac{n}{2}\\right)+O(n)$$\n",
    "\n",
    "Let us derive asymptotic formula for $T(n)$.\n",
    "\n",
    "$$T(n)=3^2\\cdot T\\left( \\frac{n}{2^2}\\right)+O(3\\cdot\\frac{n}{2}+n) = 3^3\\cdot T\\left( \\frac{n}{2^3}\\right) +\n",
    "O(3^2\\cdot\\frac{n}{2^2}+3\\cdot\\frac{n}{2}+n)=$$\n",
    "$$\\ldots$$\n",
    "$$=3^k T\\left( \\frac{n}{2^k}\\right) + O\\left(n\\cdot\\sum\\limits_{i=0}^{k-1} \\left( \\frac{3}{2} \\right)^i \\right)=\n",
    "3^k T\\left( \\frac{n}{2^k}\\right) + O\\left(n\\cdot \\frac{\\left( \\frac{3}{2}\\right)^k-1 }{\\frac{3}{2}-1}  \\right)=$$\n",
    "$$=3^kT\\left( \\frac{n}{2^k}\\right)+2n\\cdot O\\left(\\left( \\frac{3}{2}\\right)^k-1\\right) \n",
    "=\\left\\{Since\\,n=2^k,\\, so\\,k=\\log_2{n}\\right\\}\n",
    "\\approx 3^{\\log_2{n}}T(1)= n^{\\log_2{3}} O(1)$$\n",
    "\n",
    "Thus $\\textbf{the complexity of Karasuba's algorithm}$, in an asymptotic sence, is\n",
    "$$T(n) =O\\left(n^{\\log_2{3}}\\right) \\approx O\\left(n^{1.584}\\right)  $$"
   ]
  },
  {
   "cell_type": "markdown",
   "metadata": {},
   "source": [
    "# Realization Grade School Multiplication Algorithm in Python¶"
   ]
  },
  {
   "cell_type": "code",
   "execution_count": 3,
   "metadata": {},
   "outputs": [],
   "source": [
    "def GSMAlgor(x, y):\n",
    "    a=str(x)\n",
    "    b=str(y)\n",
    "    len1 = len(a) \n",
    "    len2 = len(b) \n",
    "    if len1 == 0 or len2 == 0: \n",
    "        return \"0\"\n",
    "    result = [0] * (len1 + len2) \n",
    "    i_n1 = 0\n",
    "    i_n2 = 0\n",
    "    for i in range(len1 - 1, -1, -1): \n",
    "        carry = 0\n",
    "        n1 = int(a[i])\n",
    "        i_n2 = 0\n",
    "  \n",
    "        for j in range(len2 - 1, -1, -1): \n",
    "            n2 = int(b[j])\n",
    "            summ = n1 * n2 + result[i_n1 + i_n2] + carry \n",
    "            carry = summ // 10\n",
    "            result[i_n1 + i_n2] = summ % 10\n",
    "            i_n2 += 1\n",
    "        if (carry > 0): \n",
    "            result[i_n1 + i_n2] += carry \n",
    "        i_n1 += 1\n",
    "    i = len(result) - 1\n",
    "    while (i >= 0 and result[i] == 0): \n",
    "        i -= 1\n",
    "    if (i == -1): \n",
    "        return \"0\"\n",
    "    s = \"\" \n",
    "    while (i >= 0): \n",
    "        s += str(result[i]) \n",
    "        i -= 1\n",
    "    return int(s) "
   ]
  },
  {
   "cell_type": "markdown",
   "metadata": {},
   "source": [
    "# Function for generating random integer numbers"
   ]
  },
  {
   "cell_type": "code",
   "execution_count": 4,
   "metadata": {},
   "outputs": [],
   "source": [
    "import random as rnd\n",
    "def RndNumbers(n):\n",
    "    s=str(rnd.randint(1,9))\n",
    "    for i in range(n-1):\n",
    "        x=rnd.randint(0,9)\n",
    "        s=s+str(x)\n",
    "    return int(s)"
   ]
  },
  {
   "cell_type": "markdown",
   "metadata": {},
   "source": [
    "# An Example"
   ]
  },
  {
   "cell_type": "code",
   "execution_count": 5,
   "metadata": {},
   "outputs": [
    {
     "name": "stdout",
     "output_type": "stream",
     "text": [
      "Number a= 32493762 \n",
      "\n",
      "Number b= 31824098\n"
     ]
    }
   ],
   "source": [
    "a=RndNumbers(8)\n",
    "b=RndNumbers(8)\n",
    "print(\"Number a=\", a,\"\\n\")\n",
    "print(\"Number b=\",b)"
   ]
  },
  {
   "cell_type": "code",
   "execution_count": 6,
   "metadata": {},
   "outputs": [
    {
     "name": "stdout",
     "output_type": "stream",
     "text": [
      "Karatsuba algorithm: a*b =\n",
      "1034084666276676\n"
     ]
    }
   ],
   "source": [
    "print(\"Karatsuba algorithm: a*b =\")\n",
    "print(Karatsuba(a,b))"
   ]
  },
  {
   "cell_type": "code",
   "execution_count": 7,
   "metadata": {},
   "outputs": [
    {
     "name": "stdout",
     "output_type": "stream",
     "text": [
      "Standart algorithm: a*b =\n",
      "1034084666276676\n"
     ]
    }
   ],
   "source": [
    "print(\"Standart algorithm: a*b =\")\n",
    "print(GSMAlgor(a,b))"
   ]
  },
  {
   "cell_type": "markdown",
   "metadata": {},
   "source": [
    "$$\\huge \\textbf{Comparison of Karatsuba's and Standart algorithms}$$\n",
    "$$\\large \\textbf{(in the cases $n=256$, $n=512$, $n=1024$ and $n=2048$)}$$"
   ]
  },
  {
   "cell_type": "code",
   "execution_count": 8,
   "metadata": {},
   "outputs": [],
   "source": [
    "# Running Time of Strassen's and Standart algorithm\n",
    "import time\n",
    "CasesN=[256, 512, 1024, 2048]\n",
    "timeRKaratsuba=[]\n",
    "timeRStandart=[]\n",
    "for n in CasesN:\n",
    "    a=RndNumbers(n)   \n",
    "    b=RndNumbers(n)\n",
    "    start_time = time.time()\n",
    "    Karatsuba(a,b)\n",
    "    end_time = time.time()\n",
    "    timeRKaratsuba.append(end_time - start_time)\n",
    "    start_time = time.time()\n",
    "    GSMAlgor(a,b)\n",
    "    end_time = time.time()\n",
    "    timeRStandart.append(end_time - start_time)"
   ]
  },
  {
   "cell_type": "code",
   "execution_count": 9,
   "metadata": {},
   "outputs": [
    {
     "name": "stdout",
     "output_type": "stream",
     "text": [
      "Karatsuba algorithm:\n",
      "The running time in the case n= 256 is 0.05600309371948242\n",
      "The running time in the case n= 512 is 0.06000328063964844\n",
      "The running time in the case n= 1024 is 0.2830162048339844\n",
      "The running time in the case n= 2048 is 0.5260300636291504\n"
     ]
    }
   ],
   "source": [
    "print('Karatsuba algorithm:')\n",
    "for i in range(len(CasesN)):\n",
    "    print(\"The running time in the case n=\", CasesN[i], \"is\", timeRKaratsuba[i])"
   ]
  },
  {
   "cell_type": "code",
   "execution_count": 10,
   "metadata": {},
   "outputs": [
    {
     "name": "stdout",
     "output_type": "stream",
     "text": [
      "Standart algorithm:\n",
      "The running time in the case n= 256 is 0.0500030517578125\n",
      "The running time in the case n= 512 is 0.21201205253601074\n",
      "The running time in the case n= 1024 is 0.8510487079620361\n",
      "The running time in the case n= 2048 is 2.725155830383301\n"
     ]
    }
   ],
   "source": [
    "print('Standart algorithm:')\n",
    "for i in range(len(CasesN)):\n",
    "    print(\"The running time in the case n=\", CasesN[i], \"is\", timeRStandart[i])"
   ]
  },
  {
   "cell_type": "code",
   "execution_count": 11,
   "metadata": {},
   "outputs": [
    {
     "data": {
      "image/png": "[encoded data removed]",
      "text/plain": [
       "<Figure size 432x288 with 1 Axes>"
      ]
     },
     "metadata": {
      "needs_background": "light"
     },
     "output_type": "display_data"
    }
   ],
   "source": [
    "import matplotlib.pyplot as plt\n",
    "import numpy as np\n",
    "\n",
    "\n",
    "labels = []\n",
    "for i in range(len(CasesN)):\n",
    "    labels.append('n='+str(CasesN[i]))\n",
    "\n",
    "x = np.arange(len(labels))\n",
    "width = 0.25\n",
    "\n",
    "fig, ax = plt.subplots()\n",
    "rects1 = ax.bar(x - width/2, timeRKaratsuba, width, label='Karatsuba algorithm')\n",
    "rects2 = ax.bar(x + width/2, timeRStandart, width, label='Standart algorithm')\n",
    "\n",
    "ax.set_ylabel('The running time in seconds')\n",
    "ax.set_title('The Run Time of Algorithms')\n",
    "ax.set_xticks(x)\n",
    "ax.set_xticklabels(labels)\n",
    "ax.legend()\n",
    "fig.tight_layout()\n",
    "\n",
    "plt.show()"
   ]
  }
 ],
 "metadata": {
  "kernelspec": {
   "display_name": "Python 3",
   "language": "python",
   "name": "python3"
  },
  "language_info": {
   "codemirror_mode": {
    "name": "ipython",
    "version": 3
   },
   "file_extension": ".py",
   "mimetype": "text/x-python",
   "name": "python",
   "nbconvert_exporter": "python",
   "pygments_lexer": "ipython3",
   "version": "3.7.3"
  }
 },
 "nbformat": 4,
 "nbformat_minor": 2
}
